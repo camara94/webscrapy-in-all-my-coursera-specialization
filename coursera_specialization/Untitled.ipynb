{
 "cells": [
  {
   "cell_type": "code",
   "execution_count": 1,
   "metadata": {},
   "outputs": [],
   "source": [
    "import pandas as pd"
   ]
  },
  {
   "cell_type": "code",
   "execution_count": 2,
   "metadata": {},
   "outputs": [],
   "source": [
    "df = pd.read_csv(\"specialisation.csv\")"
   ]
  },
  {
   "cell_type": "code",
   "execution_count": 3,
   "metadata": {},
   "outputs": [
    {
     "data": {
      "text/html": [
       "<div>\n",
       "<style scoped>\n",
       "    .dataframe tbody tr th:only-of-type {\n",
       "        vertical-align: middle;\n",
       "    }\n",
       "\n",
       "    .dataframe tbody tr th {\n",
       "        vertical-align: top;\n",
       "    }\n",
       "\n",
       "    .dataframe thead th {\n",
       "        text-align: right;\n",
       "    }\n",
       "</style>\n",
       "<table border=\"1\" class=\"dataframe\">\n",
       "  <thead>\n",
       "    <tr style=\"text-align: right;\">\n",
       "      <th></th>\n",
       "      <th>date</th>\n",
       "      <th>duree</th>\n",
       "      <th>certificats</th>\n",
       "      <th>titre</th>\n",
       "      <th>etudiant</th>\n",
       "      <th>description</th>\n",
       "      <th>lien</th>\n",
       "    </tr>\n",
       "  </thead>\n",
       "  <tbody>\n",
       "    <tr>\n",
       "      <th>0</th>\n",
       "      <td>June 22, 2021</td>\n",
       "      <td>Approximately 12 weeks to complete.</td>\n",
       "      <td>[{'nom': 'Server-side Development with NodeJS,...</td>\n",
       "      <td>Full Stack Web Development with Angular\\n</td>\n",
       "      <td>Course Certificates</td>\n",
       "      <td>Laby Damaro  Camara's account is verified. Cou...</td>\n",
       "      <td>https://www.coursera.org/specializations/full-...</td>\n",
       "    </tr>\n",
       "    <tr>\n",
       "      <th>1</th>\n",
       "      <td>May 9, 2021</td>\n",
       "      <td>Approximately 12 weeks to complete.</td>\n",
       "      <td>[{'nom': 'Server-side Development with NodeJS,...</td>\n",
       "      <td>Full-Stack Web Development with React</td>\n",
       "      <td>Course Certificates</td>\n",
       "      <td>Laby Damaro  Camara's account is verified. Cou...</td>\n",
       "      <td>https://www.coursera.org/specializations/full-...</td>\n",
       "    </tr>\n",
       "  </tbody>\n",
       "</table>\n",
       "</div>"
      ],
      "text/plain": [
       "            date                                duree  \\\n",
       "0  June 22, 2021  Approximately 12 weeks to complete.   \n",
       "1    May 9, 2021  Approximately 12 weeks to complete.   \n",
       "\n",
       "                                         certificats  \\\n",
       "0  [{'nom': 'Server-side Development with NodeJS,...   \n",
       "1  [{'nom': 'Server-side Development with NodeJS,...   \n",
       "\n",
       "                                       titre             etudiant  \\\n",
       "0  Full Stack Web Development with Angular\\n  Course Certificates   \n",
       "1      Full-Stack Web Development with React  Course Certificates   \n",
       "\n",
       "                                         description  \\\n",
       "0  Laby Damaro  Camara's account is verified. Cou...   \n",
       "1  Laby Damaro  Camara's account is verified. Cou...   \n",
       "\n",
       "                                                lien  \n",
       "0  https://www.coursera.org/specializations/full-...  \n",
       "1  https://www.coursera.org/specializations/full-...  "
      ]
     },
     "execution_count": 3,
     "metadata": {},
     "output_type": "execute_result"
    }
   ],
   "source": [
    "df"
   ]
  },
  {
   "cell_type": "code",
   "execution_count": 17,
   "metadata": {},
   "outputs": [
    {
     "data": {
      "text/plain": [
       "\"[{'nom': 'Server-side Development with NodeJS, Express and MongoDB', 'lien': 'https://www.coursera.org/account/accomplishments/certificate/YPQPEMN97ESV', 'universite': 'The Hong Kong University of Science and Technology', 'formateur': 'Jogesh K. Muppala', 'etudiant': 'Laby Damaro  Camara', 'date_obtention': ' April 24, 2019', 'duree': '4 weeks of study, 8-10 hours/week'}, {'nom': 'Server-side Development with NodeJS, Express and MongoDB', 'lien': 'https://www.coursera.org/account/accomplishments/certificate/YPQPEMN97ESV', 'universite': 'The Hong Kong University of Science and Technology', 'formateur': 'Jogesh K. Muppala', 'etudiant': 'Laby Damaro  Camara', 'date_obtention': ' April 24, 2019', 'duree': '4 weeks of study, 8-10 hours/week'}, {'nom': 'Server-side Development with NodeJS, Express and MongoDB', 'lien': 'https://www.coursera.org/account/accomplishments/certificate/YPQPEMN97ESV', 'universite': 'The Hong Kong University of Science and Technology', 'formateur': 'Jogesh K. Muppala', 'etudiant': 'Laby Damaro  Camara', 'date_obtention': ' April 24, 2019', 'duree': '4 weeks of study, 8-10 hours/week'}, {'nom': 'Server-side Development with NodeJS, Express and MongoDB', 'lien': 'https://www.coursera.org/account/accomplishments/certificate/YPQPEMN97ESV', 'universite': 'The Hong Kong University of Science and Technology', 'formateur': 'Jogesh K. Muppala', 'etudiant': 'Laby Damaro  Camara', 'date_obtention': ' April 24, 2019', 'duree': '4 weeks of study, 8-10 hours/week'}, {'nom': 'Server-side Development with NodeJS, Express and MongoDB', 'lien': 'https://www.coursera.org/account/accomplishments/certificate/YPQPEMN97ESV', 'universite': 'The Hong Kong University of Science and Technology', 'formateur': 'Jogesh K. Muppala', 'etudiant': 'Laby Damaro  Camara', 'date_obtention': ' April 24, 2019', 'duree': '4 weeks of study, 8-10 hours/week'}, {'nom': 'Server-side Development with NodeJS, Express and MongoDB', 'lien': 'https://www.coursera.org/account/accomplishments/certificate/YPQPEMN97ESV', 'universite': 'The Hong Kong University of Science and Technology', 'formateur': 'Jogesh K. Muppala', 'etudiant': 'Laby Damaro  Camara', 'date_obtention': ' April 24, 2019', 'duree': '4 weeks of study, 8-10 hours/week'}, {'nom': 'Server-side Development with NodeJS, Express and MongoDB', 'lien': 'https://www.coursera.org/account/accomplishments/certificate/YPQPEMN97ESV', 'universite': 'The Hong Kong University of Science and Technology', 'formateur': 'Jogesh K. Muppala', 'etudiant': 'Laby Damaro  Camara', 'date_obtention': ' April 24, 2019', 'duree': '4 weeks of study, 8-10 hours/week'}, {'nom': 'Server-side Development with NodeJS, Express and MongoDB', 'lien': 'https://www.coursera.org/account/accomplishments/certificate/YPQPEMN97ESV', 'universite': 'The Hong Kong University of Science and Technology', 'formateur': 'Jogesh K. Muppala', 'etudiant': 'Laby Damaro  Camara', 'date_obtention': ' April 24, 2019', 'duree': '4 weeks of study, 8-10 hours/week'}, {'nom': 'Server-side Development with NodeJS, Express and MongoDB', 'lien': 'https://www.coursera.org/account/accomplishments/certificate/YPQPEMN97ESV', 'universite': 'The Hong Kong University of Science and Technology', 'formateur': 'Jogesh K. Muppala', 'etudiant': 'Laby Damaro  Camara', 'date_obtention': ' April 24, 2019', 'duree': '4 weeks of study, 8-10 hours/week'}, {'nom': 'Server-side Development with NodeJS, Express and MongoDB', 'lien': 'https://www.coursera.org/account/accomplishments/certificate/YPQPEMN97ESV', 'universite': 'The Hong Kong University of Science and Technology', 'formateur': 'Jogesh K. Muppala', 'etudiant': 'Laby Damaro  Camara', 'date_obtention': ' April 24, 2019', 'duree': '4 weeks of study, 8-10 hours/week'}, {'nom': 'Server-side Development with NodeJS, Express and MongoDB', 'lien': 'https://www.coursera.org/account/accomplishments/certificate/YPQPEMN97ESV', 'universite': 'The Hong Kong University of Science and Technology', 'formateur': 'Jogesh K. Muppala', 'etudiant': 'Laby Damaro  Camara', 'date_obtention': ' April 24, 2019', 'duree': '4 weeks of study, 8-10 hours/week'}, {'nom': 'Server-side Development with NodeJS, Express and MongoDB', 'lien': 'https://www.coursera.org/account/accomplishments/certificate/YPQPEMN97ESV', 'universite': 'The Hong Kong University of Science and Technology', 'formateur': 'Jogesh K. Muppala', 'etudiant': 'Laby Damaro  Camara', 'date_obtention': ' April 24, 2019', 'duree': '4 weeks of study, 8-10 hours/week'}]\""
      ]
     },
     "execution_count": 17,
     "metadata": {},
     "output_type": "execute_result"
    }
   ],
   "source": [
    "df['certificats'][0]"
   ]
  },
  {
   "cell_type": "code",
   "execution_count": 6,
   "metadata": {},
   "outputs": [
    {
     "data": {
      "text/html": [
       "<div>\n",
       "<style scoped>\n",
       "    .dataframe tbody tr th:only-of-type {\n",
       "        vertical-align: middle;\n",
       "    }\n",
       "\n",
       "    .dataframe tbody tr th {\n",
       "        vertical-align: top;\n",
       "    }\n",
       "\n",
       "    .dataframe thead th {\n",
       "        text-align: right;\n",
       "    }\n",
       "</style>\n",
       "<table border=\"1\" class=\"dataframe\">\n",
       "  <thead>\n",
       "    <tr style=\"text-align: right;\">\n",
       "      <th></th>\n",
       "      <th>certificats</th>\n",
       "    </tr>\n",
       "  </thead>\n",
       "  <tbody>\n",
       "    <tr>\n",
       "      <th>0</th>\n",
       "      <td>[{'nom': 'Server-side Development with NodeJS,...</td>\n",
       "    </tr>\n",
       "    <tr>\n",
       "      <th>1</th>\n",
       "      <td>[{'nom': 'Server-side Development with NodeJS,...</td>\n",
       "    </tr>\n",
       "  </tbody>\n",
       "</table>\n",
       "</div>"
      ],
      "text/plain": [
       "                                         certificats\n",
       "0  [{'nom': 'Server-side Development with NodeJS,...\n",
       "1  [{'nom': 'Server-side Development with NodeJS,..."
      ]
     },
     "execution_count": 6,
     "metadata": {},
     "output_type": "execute_result"
    }
   ],
   "source": [
    "cert"
   ]
  },
  {
   "cell_type": "code",
   "execution_count": null,
   "metadata": {},
   "outputs": [],
   "source": []
  }
 ],
 "metadata": {
  "kernelspec": {
   "display_name": "Python 3",
   "language": "python",
   "name": "python3"
  },
  "language_info": {
   "codemirror_mode": {
    "name": "ipython",
    "version": 3
   },
   "file_extension": ".py",
   "mimetype": "text/x-python",
   "name": "python",
   "nbconvert_exporter": "python",
   "pygments_lexer": "ipython3",
   "version": "3.8.5"
  }
 },
 "nbformat": 4,
 "nbformat_minor": 4
}
